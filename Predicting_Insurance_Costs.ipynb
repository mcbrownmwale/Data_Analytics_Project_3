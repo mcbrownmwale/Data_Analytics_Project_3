{
 "cells": [
  {
   "cell_type": "markdown",
   "id": "7d7a3092",
   "metadata": {},
   "source": [
    "# Predicting Insurance Costs\n",
    "For this project we will be looking at the Medical Costs dataset from kaggle. This dataset contains information on individual medical insurance bills. Each bill is associated with some demographic and personal characteristics of the person who received it.\n",
    "\n",
    "For our regression problem, we are interested in how these different characteristics relate to the total medical costs. We want to construct the best possible predictive model for the cost, given some information about the patient.\n",
    "\n",
    "Let us get started by importing the required Python Libraries:"
   ]
  },
  {
   "cell_type": "code",
   "execution_count": 27,
   "id": "8a198d20",
   "metadata": {},
   "outputs": [],
   "source": [
    "import pandas as pd\n",
    "import matplotlib.pyplot as plt\n",
    "import seaborn as sns\n",
    "from sklearn.model_selection import train_test_split\n",
    "from sklearn.linear_model import LinearRegression"
   ]
  },
  {
   "cell_type": "markdown",
   "id": "c68dd9f2",
   "metadata": {},
   "source": [
    "We can now read in our **insurance** dataset using pandas Library:"
   ]
  },
  {
   "cell_type": "code",
   "execution_count": 28,
   "id": "1086cbdd",
   "metadata": {},
   "outputs": [
    {
     "data": {
      "text/html": [
       "<div>\n",
       "<style scoped>\n",
       "    .dataframe tbody tr th:only-of-type {\n",
       "        vertical-align: middle;\n",
       "    }\n",
       "\n",
       "    .dataframe tbody tr th {\n",
       "        vertical-align: top;\n",
       "    }\n",
       "\n",
       "    .dataframe thead th {\n",
       "        text-align: right;\n",
       "    }\n",
       "</style>\n",
       "<table border=\"1\" class=\"dataframe\">\n",
       "  <thead>\n",
       "    <tr style=\"text-align: right;\">\n",
       "      <th></th>\n",
       "      <th>age</th>\n",
       "      <th>sex</th>\n",
       "      <th>bmi</th>\n",
       "      <th>children</th>\n",
       "      <th>smoker</th>\n",
       "      <th>region</th>\n",
       "      <th>charges</th>\n",
       "    </tr>\n",
       "  </thead>\n",
       "  <tbody>\n",
       "    <tr>\n",
       "      <th>0</th>\n",
       "      <td>19</td>\n",
       "      <td>female</td>\n",
       "      <td>27.900</td>\n",
       "      <td>0</td>\n",
       "      <td>yes</td>\n",
       "      <td>southwest</td>\n",
       "      <td>16884.92400</td>\n",
       "    </tr>\n",
       "    <tr>\n",
       "      <th>1</th>\n",
       "      <td>18</td>\n",
       "      <td>male</td>\n",
       "      <td>33.770</td>\n",
       "      <td>1</td>\n",
       "      <td>no</td>\n",
       "      <td>southeast</td>\n",
       "      <td>1725.55230</td>\n",
       "    </tr>\n",
       "    <tr>\n",
       "      <th>2</th>\n",
       "      <td>28</td>\n",
       "      <td>male</td>\n",
       "      <td>33.000</td>\n",
       "      <td>3</td>\n",
       "      <td>no</td>\n",
       "      <td>southeast</td>\n",
       "      <td>4449.46200</td>\n",
       "    </tr>\n",
       "    <tr>\n",
       "      <th>3</th>\n",
       "      <td>33</td>\n",
       "      <td>male</td>\n",
       "      <td>22.705</td>\n",
       "      <td>0</td>\n",
       "      <td>no</td>\n",
       "      <td>northwest</td>\n",
       "      <td>21984.47061</td>\n",
       "    </tr>\n",
       "    <tr>\n",
       "      <th>4</th>\n",
       "      <td>32</td>\n",
       "      <td>male</td>\n",
       "      <td>28.880</td>\n",
       "      <td>0</td>\n",
       "      <td>no</td>\n",
       "      <td>northwest</td>\n",
       "      <td>3866.85520</td>\n",
       "    </tr>\n",
       "  </tbody>\n",
       "</table>\n",
       "</div>"
      ],
      "text/plain": [
       "   age     sex     bmi  children smoker     region      charges\n",
       "0   19  female  27.900         0    yes  southwest  16884.92400\n",
       "1   18    male  33.770         1     no  southeast   1725.55230\n",
       "2   28    male  33.000         3     no  southeast   4449.46200\n",
       "3   33    male  22.705         0     no  northwest  21984.47061\n",
       "4   32    male  28.880         0     no  northwest   3866.85520"
      ]
     },
     "execution_count": 28,
     "metadata": {},
     "output_type": "execute_result"
    }
   ],
   "source": [
    "# Read in insurance dataset\n",
    "df = pd.read_csv(r\"D:\\Work_Shop\\Data_Analytics_Project_3\\insurance.csv\")\n",
    "\n",
    "# Display the first five rows\n",
    "df.head()"
   ]
  },
  {
   "cell_type": "markdown",
   "id": "89c5d78f",
   "metadata": {},
   "source": [
    "## Explore and Prepare the Data\n",
    "\n",
    "### Check for Missing Data"
   ]
  },
  {
   "cell_type": "code",
   "execution_count": 29,
   "id": "7e12440f",
   "metadata": {},
   "outputs": [
    {
     "data": {
      "text/plain": [
       "age         0\n",
       "sex         0\n",
       "bmi         0\n",
       "children    0\n",
       "smoker      0\n",
       "region      0\n",
       "charges     0\n",
       "dtype: int64"
      ]
     },
     "execution_count": 29,
     "metadata": {},
     "output_type": "execute_result"
    }
   ],
   "source": [
    "df.isna().sum()"
   ]
  },
  {
   "cell_type": "markdown",
   "id": "37cd17e9",
   "metadata": {},
   "source": [
    "Our dataset does not have missing data\n",
    "\n",
    "### Check for Duplicates"
   ]
  },
  {
   "cell_type": "code",
   "execution_count": 30,
   "id": "efb0c4f2",
   "metadata": {},
   "outputs": [
    {
     "data": {
      "text/plain": [
       "1"
      ]
     },
     "execution_count": 30,
     "metadata": {},
     "output_type": "execute_result"
    }
   ],
   "source": [
    "df.duplicated().sum()"
   ]
  },
  {
   "cell_type": "markdown",
   "id": "58eec36d",
   "metadata": {},
   "source": [
    "Our dataset has got **1** duplicate. Let us remove the duplicate."
   ]
  },
  {
   "cell_type": "code",
   "execution_count": 32,
   "id": "38309346",
   "metadata": {},
   "outputs": [
    {
     "data": {
      "text/plain": [
       "0"
      ]
     },
     "execution_count": 32,
     "metadata": {},
     "output_type": "execute_result"
    }
   ],
   "source": [
    "df.drop_duplicates(inplace = True)\n",
    "\n",
    "# Check for duplicates again\n",
    "df.duplicated().sum()"
   ]
  },
  {
   "cell_type": "markdown",
   "id": "97676a6f",
   "metadata": {},
   "source": [
    "Our dataset is now without duplicates and missing data. \n",
    "\n",
    "### Display correlation between variables"
   ]
  },
  {
   "cell_type": "code",
   "execution_count": 35,
   "id": "aea160f8",
   "metadata": {},
   "outputs": [
    {
     "data": {
      "text/html": [
       "<div>\n",
       "<style scoped>\n",
       "    .dataframe tbody tr th:only-of-type {\n",
       "        vertical-align: middle;\n",
       "    }\n",
       "\n",
       "    .dataframe tbody tr th {\n",
       "        vertical-align: top;\n",
       "    }\n",
       "\n",
       "    .dataframe thead th {\n",
       "        text-align: right;\n",
       "    }\n",
       "</style>\n",
       "<table border=\"1\" class=\"dataframe\">\n",
       "  <thead>\n",
       "    <tr style=\"text-align: right;\">\n",
       "      <th></th>\n",
       "      <th>age</th>\n",
       "      <th>bmi</th>\n",
       "      <th>children</th>\n",
       "      <th>charges</th>\n",
       "    </tr>\n",
       "  </thead>\n",
       "  <tbody>\n",
       "    <tr>\n",
       "      <th>age</th>\n",
       "      <td>1.000000</td>\n",
       "      <td>0.109344</td>\n",
       "      <td>0.041536</td>\n",
       "      <td>0.298308</td>\n",
       "    </tr>\n",
       "    <tr>\n",
       "      <th>bmi</th>\n",
       "      <td>0.109344</td>\n",
       "      <td>1.000000</td>\n",
       "      <td>0.012755</td>\n",
       "      <td>0.198401</td>\n",
       "    </tr>\n",
       "    <tr>\n",
       "      <th>children</th>\n",
       "      <td>0.041536</td>\n",
       "      <td>0.012755</td>\n",
       "      <td>1.000000</td>\n",
       "      <td>0.067389</td>\n",
       "    </tr>\n",
       "    <tr>\n",
       "      <th>charges</th>\n",
       "      <td>0.298308</td>\n",
       "      <td>0.198401</td>\n",
       "      <td>0.067389</td>\n",
       "      <td>1.000000</td>\n",
       "    </tr>\n",
       "  </tbody>\n",
       "</table>\n",
       "</div>"
      ],
      "text/plain": [
       "               age       bmi  children   charges\n",
       "age       1.000000  0.109344  0.041536  0.298308\n",
       "bmi       0.109344  1.000000  0.012755  0.198401\n",
       "children  0.041536  0.012755  1.000000  0.067389\n",
       "charges   0.298308  0.198401  0.067389  1.000000"
      ]
     },
     "execution_count": 35,
     "metadata": {},
     "output_type": "execute_result"
    }
   ],
   "source": [
    "df.corr(numeric_only = True)"
   ]
  },
  {
   "cell_type": "markdown",
   "id": "c80d8997",
   "metadata": {},
   "source": [
    "From the Table we can see that there are no two variables with strong correlation. However, the correlation between **charges** and **age** which is about **30%** will need further inspection as it is trying to tell us something. Let us observe the corretion between **charges** and categorical variables. \n",
    "\n",
    "**NB**: We are comparing other variables to **charges** because **charges** has been choosen to be a dependent variable.\n",
    "\n",
    "Let us display the distribution of charges as we may get some insights as to whether there are no attributes that are making our charges column to show weak correlation with other variables or not."
   ]
  },
  {
   "cell_type": "code",
   "execution_count": 36,
   "id": "9ef547cb",
   "metadata": {},
   "outputs": [
    {
     "data": {
      "image/png": "[encoded data removed]",
      "text/plain": [
       "<Figure size 640x480 with 1 Axes>"
      ]
     },
     "metadata": {},
     "output_type": "display_data"
    }
   ],
   "source": [
    "# Plot a Histogram\n",
    "df['charges'].plot.hist()\n",
    "plt.show()"
   ]
  },
  {
   "cell_type": "markdown",
   "id": "9dc0e9d7",
   "metadata": {},
   "source": [
    "The distribution is skewed to the right, an indication that there are more extremely high **charges** than they are extremely low charges. This has the ability of affecting how residual values are offseting each other. There is no balance. The expectation is for the residual values to cancel each other from both sides of the a regression line. Let us add a new column to our dataset. The new column will be the **log** of charges column. We will display the distribution of our new column and we will recalculate the correlation."
   ]
  },
  {
   "cell_type": "code",
   "execution_count": 40,
   "id": "f24177ff",
   "metadata": {},
   "outputs": [
    {
     "data": {
      "image/png": "[encoded data removed]",
      "text/plain": [
       "<Figure size 640x480 with 1 Axes>"
      ]
     },
     "metadata": {},
     "output_type": "display_data"
    }
   ],
   "source": [
    "# Add a log_charges column\n",
    "import numpy as np\n",
    "df['log_charges'] = np.log2(df['charges'])\n",
    "\n",
    "# Display the distribution of our new column\n",
    "df['log_charges'].plot.hist()\n",
    "plt.show()"
   ]
  },
  {
   "cell_type": "markdown",
   "id": "85e7e583",
   "metadata": {},
   "source": [
    "We now have a distribution that is almost **normal**. This distribution is more likely to produce less residual values than the previous one. Let us display the correlations now."
   ]
  },
  {
   "cell_type": "code",
   "execution_count": 42,
   "id": "118b26f0",
   "metadata": {},
   "outputs": [
    {
     "data": {
      "text/html": [
       "<div>\n",
       "<style scoped>\n",
       "    .dataframe tbody tr th:only-of-type {\n",
       "        vertical-align: middle;\n",
       "    }\n",
       "\n",
       "    .dataframe tbody tr th {\n",
       "        vertical-align: top;\n",
       "    }\n",
       "\n",
       "    .dataframe thead th {\n",
       "        text-align: right;\n",
       "    }\n",
       "</style>\n",
       "<table border=\"1\" class=\"dataframe\">\n",
       "  <thead>\n",
       "    <tr style=\"text-align: right;\">\n",
       "      <th></th>\n",
       "      <th>age</th>\n",
       "      <th>bmi</th>\n",
       "      <th>children</th>\n",
       "      <th>charges</th>\n",
       "      <th>log_charges</th>\n",
       "    </tr>\n",
       "  </thead>\n",
       "  <tbody>\n",
       "    <tr>\n",
       "      <th>age</th>\n",
       "      <td>1.000000</td>\n",
       "      <td>0.109344</td>\n",
       "      <td>0.041536</td>\n",
       "      <td>0.298308</td>\n",
       "      <td>0.526927</td>\n",
       "    </tr>\n",
       "    <tr>\n",
       "      <th>bmi</th>\n",
       "      <td>0.109344</td>\n",
       "      <td>1.000000</td>\n",
       "      <td>0.012755</td>\n",
       "      <td>0.198401</td>\n",
       "      <td>0.132822</td>\n",
       "    </tr>\n",
       "    <tr>\n",
       "      <th>children</th>\n",
       "      <td>0.041536</td>\n",
       "      <td>0.012755</td>\n",
       "      <td>1.000000</td>\n",
       "      <td>0.067389</td>\n",
       "      <td>0.160336</td>\n",
       "    </tr>\n",
       "    <tr>\n",
       "      <th>charges</th>\n",
       "      <td>0.298308</td>\n",
       "      <td>0.198401</td>\n",
       "      <td>0.067389</td>\n",
       "      <td>1.000000</td>\n",
       "      <td>0.893084</td>\n",
       "    </tr>\n",
       "    <tr>\n",
       "      <th>log_charges</th>\n",
       "      <td>0.526927</td>\n",
       "      <td>0.132822</td>\n",
       "      <td>0.160336</td>\n",
       "      <td>0.893084</td>\n",
       "      <td>1.000000</td>\n",
       "    </tr>\n",
       "  </tbody>\n",
       "</table>\n",
       "</div>"
      ],
      "text/plain": [
       "                  age       bmi  children   charges  log_charges\n",
       "age          1.000000  0.109344  0.041536  0.298308     0.526927\n",
       "bmi          0.109344  1.000000  0.012755  0.198401     0.132822\n",
       "children     0.041536  0.012755  1.000000  0.067389     0.160336\n",
       "charges      0.298308  0.198401  0.067389  1.000000     0.893084\n",
       "log_charges  0.526927  0.132822  0.160336  0.893084     1.000000"
      ]
     },
     "execution_count": 42,
     "metadata": {},
     "output_type": "execute_result"
    }
   ],
   "source": [
    "# Correlation Table\n",
    "df.corr(numeric_only = True)"
   ]
  },
  {
   "cell_type": "markdown",
   "id": "48a31ae4",
   "metadata": {},
   "source": [
    "We can now see that correlation between **log_charges** and **age** (**50%**)is now higher than that of **charges** and **age**. We are going to use **log_charges** for our predictions. \n",
    "\n",
    "Let us now check the correlation between the **log_charges** with categorical variables in our dataset."
   ]
  },
  {
   "cell_type": "code",
   "execution_count": 46,
   "id": "2631abde",
   "metadata": {},
   "outputs": [
    {
     "data": {
      "image/png": "[encoded data removed]",
      "text/plain": [
       "<Figure size 640x480 with 1 Axes>"
      ]
     },
     "metadata": {},
     "output_type": "display_data"
    }
   ],
   "source": [
    "# Boxplot of log_charges and sex\n",
    "df.boxplot(column = ['log_charges'], by = 'sex')\n",
    "plt.show()"
   ]
  },
  {
   "cell_type": "markdown",
   "id": "56026c7b",
   "metadata": {},
   "source": [
    "There is a wider distribution of charges for **male** patients. However, we cannot explicitly tell the relationship between **log_charges** and **sex** columns."
   ]
  },
  {
   "cell_type": "code",
   "execution_count": 49,
   "id": "b0afe5ab",
   "metadata": {},
   "outputs": [
    {
     "data": {
      "image/png": "[encoded data removed]",
      "text/plain": [
       "<Figure size 640x480 with 1 Axes>"
      ]
     },
     "metadata": {},
     "output_type": "display_data"
    }
   ],
   "source": [
    "# \"log_charges\" and \"smoker\"\n",
    "df.boxplot(column = 'log_charges', by = 'smoker')\n",
    "plt.show()"
   ]
  },
  {
   "cell_type": "markdown",
   "id": "c589b16f",
   "metadata": {},
   "source": [
    "There is an explicit relationship between **log_charges** and **smoker**. It seems those who smoke are charged higher. We will use his column in our prediction."
   ]
  },
  {
   "cell_type": "code",
   "execution_count": 50,
   "id": "5090977c",
   "metadata": {},
   "outputs": [
    {
     "data": {
      "image/png": "[encoded data removed]",
      "text/plain": [
       "<Figure size 640x480 with 1 Axes>"
      ]
     },
     "metadata": {},
     "output_type": "display_data"
    }
   ],
   "source": [
    "# log_charges and region\n",
    "df.boxplot(column = 'log_charges', by = 'region')\n",
    "plt.show()"
   ]
  },
  {
   "cell_type": "markdown",
   "id": "77b9fc2e",
   "metadata": {},
   "source": [
    "There is also no visisble relationship between **log_charges** and **region**,therefore we are not going to use this column.\n",
    "\n",
    "Let us now **feature engineer** smoker column. The intention is to convert the variable make it suitable for regression analysis. We are going to convert **yes** to **1** and **no** to **0**."
   ]
  },
  {
   "cell_type": "code",
   "execution_count": 52,
   "id": "aa3b2d0d",
   "metadata": {},
   "outputs": [
    {
     "data": {
      "text/html": [
       "<div>\n",
       "<style scoped>\n",
       "    .dataframe tbody tr th:only-of-type {\n",
       "        vertical-align: middle;\n",
       "    }\n",
       "\n",
       "    .dataframe tbody tr th {\n",
       "        vertical-align: top;\n",
       "    }\n",
       "\n",
       "    .dataframe thead th {\n",
       "        text-align: right;\n",
       "    }\n",
       "</style>\n",
       "<table border=\"1\" class=\"dataframe\">\n",
       "  <thead>\n",
       "    <tr style=\"text-align: right;\">\n",
       "      <th></th>\n",
       "      <th>age</th>\n",
       "      <th>sex</th>\n",
       "      <th>bmi</th>\n",
       "      <th>children</th>\n",
       "      <th>region</th>\n",
       "      <th>charges</th>\n",
       "      <th>log_charges</th>\n",
       "      <th>smoker_no</th>\n",
       "      <th>smoker_yes</th>\n",
       "    </tr>\n",
       "  </thead>\n",
       "  <tbody>\n",
       "    <tr>\n",
       "      <th>0</th>\n",
       "      <td>19</td>\n",
       "      <td>female</td>\n",
       "      <td>27.900</td>\n",
       "      <td>0</td>\n",
       "      <td>southwest</td>\n",
       "      <td>16884.92400</td>\n",
       "      <td>14.043448</td>\n",
       "      <td>0</td>\n",
       "      <td>1</td>\n",
       "    </tr>\n",
       "    <tr>\n",
       "      <th>1</th>\n",
       "      <td>18</td>\n",
       "      <td>male</td>\n",
       "      <td>33.770</td>\n",
       "      <td>1</td>\n",
       "      <td>southeast</td>\n",
       "      <td>1725.55230</td>\n",
       "      <td>10.752842</td>\n",
       "      <td>1</td>\n",
       "      <td>0</td>\n",
       "    </tr>\n",
       "    <tr>\n",
       "      <th>2</th>\n",
       "      <td>28</td>\n",
       "      <td>male</td>\n",
       "      <td>33.000</td>\n",
       "      <td>3</td>\n",
       "      <td>southeast</td>\n",
       "      <td>4449.46200</td>\n",
       "      <td>12.119415</td>\n",
       "      <td>1</td>\n",
       "      <td>0</td>\n",
       "    </tr>\n",
       "    <tr>\n",
       "      <th>3</th>\n",
       "      <td>33</td>\n",
       "      <td>male</td>\n",
       "      <td>22.705</td>\n",
       "      <td>0</td>\n",
       "      <td>northwest</td>\n",
       "      <td>21984.47061</td>\n",
       "      <td>14.424197</td>\n",
       "      <td>1</td>\n",
       "      <td>0</td>\n",
       "    </tr>\n",
       "    <tr>\n",
       "      <th>4</th>\n",
       "      <td>32</td>\n",
       "      <td>male</td>\n",
       "      <td>28.880</td>\n",
       "      <td>0</td>\n",
       "      <td>northwest</td>\n",
       "      <td>3866.85520</td>\n",
       "      <td>11.916945</td>\n",
       "      <td>1</td>\n",
       "      <td>0</td>\n",
       "    </tr>\n",
       "  </tbody>\n",
       "</table>\n",
       "</div>"
      ],
      "text/plain": [
       "   age     sex     bmi  children     region      charges  log_charges  \\\n",
       "0   19  female  27.900         0  southwest  16884.92400    14.043448   \n",
       "1   18    male  33.770         1  southeast   1725.55230    10.752842   \n",
       "2   28    male  33.000         3  southeast   4449.46200    12.119415   \n",
       "3   33    male  22.705         0  northwest  21984.47061    14.424197   \n",
       "4   32    male  28.880         0  northwest   3866.85520    11.916945   \n",
       "\n",
       "   smoker_no  smoker_yes  \n",
       "0          0           1  \n",
       "1          1           0  \n",
       "2          1           0  \n",
       "3          1           0  \n",
       "4          1           0  "
      ]
     },
     "execution_count": 52,
     "metadata": {},
     "output_type": "execute_result"
    }
   ],
   "source": [
    "# Feature Engineering smoker column\n",
    "df = pd.get_dummies(df, columns = ['smoker'])\n"
   ]
  },
  {
   "cell_type": "markdown",
   "id": "46260fc5",
   "metadata": {},
   "source": [
    "We have introduced two new columns in our dataset: **smoker_no** and **smoker_yes**. We are going to use **smoker_yes** column.\n",
    "\n",
    "Our model will consist of three variables from the dataset: **log_charges**, **age**, and **smoker_yes**.\n",
    "\n",
    "## Dividing the dataset\n",
    "\n",
    "We will first divid our dataset into a **target** variable and **feature** variables. \n",
    "\n",
    "Our target (dependent) variable is **log_charges** and the rest will be **feature** variables."
   ]
  },
  {
   "cell_type": "code",
   "execution_count": 53,
   "id": "a2f77aff",
   "metadata": {},
   "outputs": [],
   "source": [
    "# Target variable\n",
    "y = df['log_charges']\n",
    "\n",
    "# Feature variables\n",
    "X = df.drop(['log_charges'], axis = 1)"
   ]
  },
  {
   "cell_type": "markdown",
   "id": "443a6b71",
   "metadata": {},
   "source": [
    "### Spliting our Dataset into Training sets and Testing sets"
   ]
  },
  {
   "cell_type": "code",
   "execution_count": 54,
   "id": "5e118d74",
   "metadata": {},
   "outputs": [
    {
     "name": "stdout",
     "output_type": "stream",
     "text": [
      "(1069, 8)\n",
      "(268, 8)\n",
      "(1069,)\n",
      "(268,)\n"
     ]
    }
   ],
   "source": [
    "# Spliting data\n",
    "X_train, X_test, y_train, y_test = train_test_split(X, y, test_size=0.2, random_state=674)\n",
    "\n",
    "# Display the chape of our new datasets\n",
    "print(X_train.shape, X_test.shape, y_train.shape, y_test.shape, sep = \"\\n\")"
   ]
  },
  {
   "cell_type": "markdown",
   "id": "4767d790",
   "metadata": {},
   "source": [
    "### Creating Subsets "
   ]
  },
  {
   "cell_type": "code",
   "execution_count": 58,
   "id": "b700bf54",
   "metadata": {},
   "outputs": [
    {
     "name": "stdout",
     "output_type": "stream",
     "text": [
      "(268, 2)\n",
      "(1069, 2)\n"
     ]
    }
   ],
   "source": [
    "# X_train subset\n",
    "X_train_subset = X_train[['age', 'smoker_yes']]\n",
    "\n",
    "# X_test subset\n",
    "X_test_subset = X_test[['age', 'smoker_yes']]\n",
    "\n",
    "# Display the shape of subsets\n",
    "print(X_test_subset.shape, X_train_subset.shape, sep = \"\\n\")"
   ]
  },
  {
   "cell_type": "markdown",
   "id": "d90d3e59",
   "metadata": {},
   "source": [
    "### Fitting the Model"
   ]
  },
  {
   "cell_type": "code",
   "execution_count": 59,
   "id": "dbab18a8",
   "metadata": {},
   "outputs": [
    {
     "data": {
      "text/html": [
       "<style>#sk-container-id-1 {color: black;background-color: white;}#sk-container-id-1 pre{padding: 0;}#sk-container-id-1 div.sk-toggleable {background-color: white;}#sk-container-id-1 label.sk-toggleable__label {cursor: pointer;display: block;width: 100%;margin-bottom: 0;padding: 0.3em;box-sizing: border-box;text-align: center;}#sk-container-id-1 label.sk-toggleable__label-arrow:before {content: \"▸\";float: left;margin-right: 0.25em;color: #696969;}#sk-container-id-1 label.sk-toggleable__label-arrow:hover:before {color: black;}#sk-container-id-1 div.sk-estimator:hover label.sk-toggleable__label-arrow:before {color: black;}#sk-container-id-1 div.sk-toggleable__content {max-height: 0;max-width: 0;overflow: hidden;text-align: left;background-color: #f0f8ff;}#sk-container-id-1 div.sk-toggleable__content pre {margin: 0.2em;color: black;border-radius: 0.25em;background-color: #f0f8ff;}#sk-container-id-1 input.sk-toggleable__control:checked~div.sk-toggleable__content {max-height: 200px;max-width: 100%;overflow: auto;}#sk-container-id-1 input.sk-toggleable__control:checked~label.sk-toggleable__label-arrow:before {content: \"▾\";}#sk-container-id-1 div.sk-estimator input.sk-toggleable__control:checked~label.sk-toggleable__label {background-color: #d4ebff;}#sk-container-id-1 div.sk-label input.sk-toggleable__control:checked~label.sk-toggleable__label {background-color: #d4ebff;}#sk-container-id-1 input.sk-hidden--visually {border: 0;clip: rect(1px 1px 1px 1px);clip: rect(1px, 1px, 1px, 1px);height: 1px;margin: -1px;overflow: hidden;padding: 0;position: absolute;width: 1px;}#sk-container-id-1 div.sk-estimator {font-family: monospace;background-color: #f0f8ff;border: 1px dotted black;border-radius: 0.25em;box-sizing: border-box;margin-bottom: 0.5em;}#sk-container-id-1 div.sk-estimator:hover {background-color: #d4ebff;}#sk-container-id-1 div.sk-parallel-item::after {content: \"\";width: 100%;border-bottom: 1px solid gray;flex-grow: 1;}#sk-container-id-1 div.sk-label:hover label.sk-toggleable__label {background-color: #d4ebff;}#sk-container-id-1 div.sk-serial::before {content: \"\";position: absolute;border-left: 1px solid gray;box-sizing: border-box;top: 0;bottom: 0;left: 50%;z-index: 0;}#sk-container-id-1 div.sk-serial {display: flex;flex-direction: column;align-items: center;background-color: white;padding-right: 0.2em;padding-left: 0.2em;position: relative;}#sk-container-id-1 div.sk-item {position: relative;z-index: 1;}#sk-container-id-1 div.sk-parallel {display: flex;align-items: stretch;justify-content: center;background-color: white;position: relative;}#sk-container-id-1 div.sk-item::before, #sk-container-id-1 div.sk-parallel-item::before {content: \"\";position: absolute;border-left: 1px solid gray;box-sizing: border-box;top: 0;bottom: 0;left: 50%;z-index: -1;}#sk-container-id-1 div.sk-parallel-item {display: flex;flex-direction: column;z-index: 1;position: relative;background-color: white;}#sk-container-id-1 div.sk-parallel-item:first-child::after {align-self: flex-end;width: 50%;}#sk-container-id-1 div.sk-parallel-item:last-child::after {align-self: flex-start;width: 50%;}#sk-container-id-1 div.sk-parallel-item:only-child::after {width: 0;}#sk-container-id-1 div.sk-dashed-wrapped {border: 1px dashed gray;margin: 0 0.4em 0.5em 0.4em;box-sizing: border-box;padding-bottom: 0.4em;background-color: white;}#sk-container-id-1 div.sk-label label {font-family: monospace;font-weight: bold;display: inline-block;line-height: 1.2em;}#sk-container-id-1 div.sk-label-container {text-align: center;}#sk-container-id-1 div.sk-container {/* jupyter's `normalize.less` sets `[hidden] { display: none; }` but bootstrap.min.css set `[hidden] { display: none !important; }` so we also need the `!important` here to be able to override the default hidden behavior on the sphinx rendered scikit-learn.org. See: https://github.com/scikit-learn/scikit-learn/issues/21755 */display: inline-block !important;position: relative;}#sk-container-id-1 div.sk-text-repr-fallback {display: none;}</style><div id=\"sk-container-id-1\" class=\"sk-top-container\"><div class=\"sk-text-repr-fallback\"><pre>LinearRegression()</pre><b>In a Jupyter environment, please rerun this cell to show the HTML representation or trust the notebook. <br />On GitHub, the HTML representation is unable to render, please try loading this page with nbviewer.org.</b></div><div class=\"sk-container\" hidden><div class=\"sk-item\"><div class=\"sk-estimator sk-toggleable\"><input class=\"sk-toggleable__control sk-hidden--visually\" id=\"sk-estimator-id-1\" type=\"checkbox\" checked><label for=\"sk-estimator-id-1\" class=\"sk-toggleable__label sk-toggleable__label-arrow\">LinearRegression</label><div class=\"sk-toggleable__content\"><pre>LinearRegression()</pre></div></div></div></div></div>"
      ],
      "text/plain": [
       "LinearRegression()"
      ]
     },
     "execution_count": 59,
     "metadata": {},
     "output_type": "execute_result"
    }
   ],
   "source": [
    "# Instantiating the Linear Regression object\n",
    "model = LinearRegression()\n",
    "\n",
    "# Fitting the model\n",
    "model.fit(X_train_subset, y_train)"
   ]
  },
  {
   "cell_type": "markdown",
   "id": "6391dd41",
   "metadata": {},
   "source": [
    "Now that we have our model, we can use it for making predictions. Before we use our model for prediction, let us display the estimated **intercept** and **coefficients** of our model."
   ]
  },
  {
   "cell_type": "code",
   "execution_count": 63,
   "id": "bf042637",
   "metadata": {},
   "outputs": [
    {
     "name": "stdout",
     "output_type": "stream",
     "text": [
      "The Coeffients of our model are: [0.04946947 2.2216724 ]\n",
      "The Intercept for our model is: 10.757583699081843\n"
     ]
    }
   ],
   "source": [
    "# Intercept\n",
    "intercept = model.intercept_\n",
    "\n",
    "# coefficients\n",
    "coefficients = model.coef_\n",
    "\n",
    "print(f\"The Coeffients of our model are: {coefficients}\")\n",
    "print(f\"The Intercept for our model is: {intercept}\")"
   ]
  },
  {
   "cell_type": "markdown",
   "id": "1d5eb0bb",
   "metadata": {},
   "source": [
    "We will not yet interpret the coefficients untill we run some test to make sure our model is a good model and ready for use. We will use **R Squared** goodness of fit measure. "
   ]
  },
  {
   "cell_type": "code",
   "execution_count": 64,
   "id": "475184bd",
   "metadata": {},
   "outputs": [
    {
     "name": "stdout",
     "output_type": "stream",
     "text": [
      "0.72193160925696\n",
      "0.7997280587908229\n"
     ]
    }
   ],
   "source": [
    "# R_squared for Training data\n",
    "r_square_training_data = model.score(X_train_subset, y_train)\n",
    "\n",
    "# R_squared for Testing data\n",
    "r_square_testing_data = model.score(X_test_subset, y_test)\n",
    "\n",
    "# Display the R_squares scores\n",
    "print(r_square_training_data, r_square_testing_data, sep = \"\\n\")"
   ]
  },
  {
   "cell_type": "markdown",
   "id": "938ce726",
   "metadata": {},
   "source": [
    "As determined by the **Goodness of Fit** (R Squares) above, our model is somewhat a good model to be used for prediction. However, our model may still need some touch up because we have only used two features as determinants of insurance charges while in real sense there are many variables determing insurance charges. There are also many Machine Learning models that can be used to predict insurance cost.\n",
    "\n",
    "### Interpretation of Coefficients\n",
    "\n",
    "1. A one year increase in a patient's age results into **5%** increase in insurance charges.\n",
    "2. If a patient is a smoker, his or her insurance charges will increase by **822%**\n",
    "\n",
    "## Conclusion\n",
    "\n",
    "We can go ahead and use the model for prediction. The above figures are supposed to be tested for significance, however, the main purpose of this project was to predict the model. "
   ]
  },
  {
   "cell_type": "code",
   "execution_count": null,
   "id": "ab69a10c",
   "metadata": {},
   "outputs": [],
   "source": []
  }
 ],
 "metadata": {
  "kernelspec": {
   "display_name": "Python 3 (ipykernel)",
   "language": "python",
   "name": "python3"
  },
  "language_info": {
   "codemirror_mode": {
    "name": "ipython",
    "version": 3
   },
   "file_extension": ".py",
   "mimetype": "text/x-python",
   "name": "python",
   "nbconvert_exporter": "python",
   "pygments_lexer": "ipython3",
   "version": "3.10.9"
  }
 },
 "nbformat": 4,
 "nbformat_minor": 5
}
